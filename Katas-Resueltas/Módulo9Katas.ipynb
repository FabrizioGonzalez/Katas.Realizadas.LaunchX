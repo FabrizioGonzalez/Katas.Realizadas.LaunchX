{
  "cells": [
    {
      "cell_type": "markdown",
      "metadata": {},
      "source": [
        "# Ejercicio: Uso de funciones en Python"
      ]
    },
    {
      "cell_type": "markdown",
      "metadata": {},
      "source": [
        "### Ejercicio 1: Trabajar con argumentos en funciones\n",
        "\n",
        "Los argumentos requeridos en las funciones se utilizan cuando las funciones necesitan que esos argumentos funcionen correctamente. En este ejercicio, construirás un informe de combustible que requiere información de varias ubicaciones de combustible en todo el cohete.\n",
        "\n"
      ]
    },
    {
      "cell_type": "markdown",
      "metadata": {},
      "source": [
        "> **TIP**\n",
        "> Dedica unos minutos para tratar de encontrar una solución. Luego desplázate hacia abajo hasta la parte inferior para ver si has logrado compilar el programa de acuerdo con las especificaciones\n",
        "\n",
        "Comienza por crear una función que necesite tres lecturas de combustible y devuelva un informe:"
      ]
    },
    {
      "cell_type": "code",
      "execution_count": 7,
      "metadata": {},
      "outputs": [],
      "source": [
        "# Función para leer 3 tanques de combustible y muestre el promedio\n",
        "def TanquesGasolina (tanquePrincipal,tanqueDerecho,tanqueIzquierdo):\n",
        "    averageGasoline =(tanquePrincipal+tanqueDerecho+tanqueIzquierdo)/3\n",
        "    print (f\"\"\"El Promedio de gasolina en el tanque es de {averageGasoline}L.\n",
        "    {tanquePrincipal}L. Tanque principal\n",
        "    {tanqueIzquierdo}L. Tanque izquierdo\n",
        "    {tanqueDerecho}L. Tanque derecho\n",
        "    \"\"\")\n",
        "\n",
        "\n"
      ]
    },
    {
      "cell_type": "markdown",
      "metadata": {},
      "source": [
        "Ahora que hemos definido la función de informes, vamos a comprobarlo. Para esta misión, los tanques no están llenos:"
      ]
    },
    {
      "cell_type": "code",
      "execution_count": 9,
      "metadata": {},
      "outputs": [
        {
          "name": "stdout",
          "output_type": "stream",
          "text": [
            "El Promedio de gasolina en el tanque es de 17.333333333333332L.\n",
            "    12L. Tanque principal\n",
            "    25L. Tanque izquierdo\n",
            "    15L. Tanque derecho\n",
            "    \n"
          ]
        }
      ],
      "source": [
        "\n",
        "# Llamamos a la función que genera el reporte print(funcion(tanque1, tanque2, tanque3))\n",
        "TanquesGasolina(12,15,25)"
      ]
    },
    {
      "cell_type": "markdown",
      "metadata": {},
      "source": [
        "En lugar de simplemente crear el informe, la función también está calculando el promedio. Mejora la legibilidad extrayendo el cálculo promedio de la función en una nueva función para que el promedio se pueda hacer de forma independiente:"
      ]
    },
    {
      "cell_type": "code",
      "execution_count": 33,
      "metadata": {},
      "outputs": [],
      "source": [
        "# Función promedio \n",
        "def Promedio(*arg):\n",
        "    sizeGroup=len(arg)\n",
        "    totalArg=0\n",
        "    for value in arg:\n",
        "        totalArg = totalArg+value\n",
        "    averageGasoline =(totalArg)/sizeGroup\n",
        "    return (averageGasoline)"
      ]
    },
    {
      "cell_type": "markdown",
      "metadata": {},
      "source": [
        "Ahora actualiza la función de informes para llamando a la nueva función del promedio:\n"
      ]
    },
    {
      "cell_type": "code",
      "execution_count": 35,
      "metadata": {},
      "outputs": [
        {
          "name": "stdout",
          "output_type": "stream",
          "text": [
            "El Promedio de gasolina en el tanque es de 18.333333333333332L.\n",
            "    12L. Tanque principal\n",
            "    15L. Tanque derecho\n",
            "    28L. Tanque izquierdo\n",
            "    \n"
          ]
        }
      ],
      "source": [
        "# Actualiza la función\n",
        "def TanquesGasolina (tanquePrincipal,tanqueDerecho,tanqueIzquierdo):\n",
        "    print (f\"\"\"El Promedio de gasolina en el tanque es de {Promedio(tanquePrincipal,tanqueDerecho,tanqueIzquierdo)}L.\n",
        "    {tanquePrincipal}L. Tanque principal\n",
        "    {tanqueDerecho}L. Tanque derecho\n",
        "    {tanqueIzquierdo}L. Tanque izquierdo\n",
        "    \"\"\")\n",
        "    \n",
        "TanquesGasolina(12,15,28)"
      ]
    },
    {
      "cell_type": "markdown",
      "metadata": {},
      "source": [
        "> Recuerda: Lo importante es intentarlo, puedes auxiliarte de internet, libros, etc. El objetivo de una kata es la comprobación de la comprensión de la lección y su aplicación inmediata a la resolución de problemas. Go for it!"
      ]
    },
    {
      "cell_type": "markdown",
      "metadata": {},
      "source": [
        "## Ejercicio 2: Trabajo con argumentos de palabra clave"
      ]
    },
    {
      "cell_type": "markdown",
      "metadata": {},
      "source": [
        "### Ejercicio : Trabajar con argumentos de palabras clave en funciones\n",
        "En este ejercicio, construirás un informe de cohete que requiere varias piezas de información, como el tiempo hasta el destino, el combustible a la izquierda y el nombre del destino. Comienza por crear una función que creará un informe preciso de la misión:"
      ]
    },
    {
      "cell_type": "code",
      "execution_count": 36,
      "metadata": {},
      "outputs": [],
      "source": [
        "# Función con un informe preciso de la misión. Considera hora de prelanzamiento, tiempo de vuelo, destino, tanque externo y tanque interno\n",
        "def Lanzamiento (launchTime,flyTime,dest,externTank,internTank):\n",
        "    print(f\"\"\"Hora de prelanzamiento: {launchTime}\n",
        "    Tiempo de vuelo:{flyTime}\n",
        "    Destino:{dest}\n",
        "    Nivel Tanque externo{externTank}\n",
        "    Nivel Tanque interno{internTank}\n",
        "    \"\"\")"
      ]
    },
    {
      "cell_type": "markdown",
      "metadata": {},
      "source": [
        "La función es problemática porque no se puede adaptar para minutos adicionales o tanques adicionales de combustible. Hazlo más flexible permitiendo cualquier número de pasos basados en el tiempo y cualquier número de tanques. En lugar de usar `*args` y `**kwargs`, aprovecha el hecho de que puedes usar cualquier nombre que desees. Asegurate que la función sea más legible mediante el uso de nombres de variables que están asociados con las entradas, como `*minutes` y `**fuel_reservoirs`:"
      ]
    },
    {
      "cell_type": "code",
      "execution_count": 53,
      "metadata": {},
      "outputs": [],
      "source": [
        "# Escribe tu nueva función de reporte considerando lo anterior\n",
        "def LanzamientoLibre (dest,*minutes,**fuelTanks):\n",
        "  sumMinutes=0\n",
        "  for value in minutes:\n",
        "      sumMinutes=sumMinutes+value\n",
        "\n",
        "  print(f\"\"\"\n",
        "Destino:{dest}\n",
        "Minutos para el lanzamiento {sumMinutes}\n",
        "Tanques y estados:\"\"\")  \n",
        "  for tank,stateTank in fuelTanks.items():\n",
        "    print(f\"  {tank}-->{stateTank}\")\n"
      ]
    },
    {
      "cell_type": "markdown",
      "metadata": {},
      "source": [
        "Debido a que el combustible que queda en los tanques es específico de cada tanque, actualiza la función para usar el nombre de cada tanque en el informe:"
      ]
    },
    {
      "cell_type": "code",
      "execution_count": 54,
      "metadata": {},
      "outputs": [
        {
          "name": "stdout",
          "output_type": "stream",
          "text": [
            "\n",
            "Destino:Jupiter\n",
            "Minutos para el lanzamiento 112\n",
            "Tanques y estados:\n",
            "  Tanque_superior-->251\n",
            "  Tanque_inferior-->247\n"
          ]
        }
      ],
      "source": [
        "# Escribe tu nueva función\n",
        "LanzamientoLibre (\"Jupiter\",10,20,30,52, Tanque_superior= '251',Tanque_inferior= '247' )"
      ]
    }
  ],
  "metadata": {
    "interpreter": {
      "hash": "205095b8b86ea82a021a8fc2ffba2b3bc9f8d0be25999901963b225939f75778"
    },
    "kernelspec": {
      "display_name": "Python 3.8.10 64-bit ('tmp': conda)",
      "name": "python3"
    },
    "language_info": {
      "codemirror_mode": {
        "name": "ipython",
        "version": 3
      },
      "file_extension": ".py",
      "mimetype": "text/x-python",
      "name": "python",
      "nbconvert_exporter": "python",
      "pygments_lexer": "ipython3",
      "version": "3.8.10"
    },
    "nteract": {
      "version": "nteract-front-end@1.0.0"
    },
    "orig_nbformat": 4
  },
  "nbformat": 4,
  "nbformat_minor": 2
}
