{
  "cells": [
    {
      "cell_type": "markdown",
      "metadata": {},
      "source": [
        "Oficial superior> \"¿Cadete?\"\n",
        "\n",
        "Usted > \"¿Sí, señora?\"\n",
        "\n",
        "Oficial superior> \"¿Puedes construir un programa que me muestre la fecha? La computadora del barco no venía con mucho en términos de programas de utilidad, por lo que necesitamos crear los que necesitamos. ¿Puedo confiar en ti con esto?\"\n",
        "\n",
        "Usted > \"Considéralo hecho\".\n",
        "\n",
        "Oficial superior> \"Excelente\".\n",
        "\n",
        "## Tu primer programa\n",
        "\n",
        "Para crear este programa, deberás utilizar los conceptos que aprendiste en el último módulo. Usarás Jupyter Notebook en este ejercicio, que es una combinación de texto y código con la que puede interactuar. Finaliza el código siguiente para que el resultado muestre la fecha de hoy."
      ]
    },
    {
      "cell_type": "code",
      "execution_count": 14,
      "metadata": {},
      "outputs": [
        {
          "name": "stdout",
          "output_type": "stream",
          "text": [
            "Today's date is: 2022-02-11\n",
            "Today's date is: 2022-02-11\n"
          ]
        }
      ],
      "source": [
        "from datetime import date\n",
        "date.today()\n",
        "\n",
        "print(\"Today's date is: \"+ str(date.today()))\n",
        "print(\"Today's date is:\",date.today())"
      ]
    },
    {
      "cell_type": "code",
      "execution_count": 15,
      "metadata": {},
      "outputs": [
        {
          "name": "stdout",
          "output_type": "stream",
          "text": [
            "10  parsec, is  32.6156  lightyears\n"
          ]
        }
      ],
      "source": [
        "lightyears = 0\n",
        "\n",
        "parsec = input (\"Introduce the parsec that you want to convert\")\n",
        "lightyears = float(parsec)* 3.26156\n",
        "print(str(parsec), \" parsec, is \", str(lightyears), \" lightyears\")"
      ]
    },
    {
      "cell_type": "markdown",
      "metadata": {},
      "source": [
        "### Variables\n",
        "\n",
        "Para avanzar en la programación, debes comprender que estás operando con datos. Como tu programa está trabajando en datos, es posible que deba recordar un cierto valor a lo largo de la ejecución del programa. Para eso, se utilizan variables.\n",
        "\n",
        "En el ejemplo siguiente se realiza un cálculo y se almacena en variables:\n",
        "\n",
        "```\n",
        "    sum = 1 + 2 # 3\n",
        "    product = sum * 2\n",
        "    print(product)\n",
        "```"
      ]
    },
    {
      "cell_type": "code",
      "execution_count": 16,
      "metadata": {},
      "outputs": [
        {
          "name": "stdout",
          "output_type": "stream",
          "text": [
            "Sum 14.97\n",
            "Product 47.02849452\n"
          ]
        }
      ],
      "source": [
        "# Tu turno, prueba el fragmento de código anterior\n",
        "sum = float(input(\"Insert first number\"))+ float(input(\"Insert second number\"))\n",
        "product = sum * float(input(\"multiply by\"))\n",
        "print(\"Sum\", str(sum))\n",
        "print(\"Product\", str(product))"
      ]
    },
    {
      "cell_type": "code",
      "execution_count": 21,
      "metadata": {},
      "outputs": [
        {
          "name": "stdout",
          "output_type": "stream",
          "text": [
            "Bienvenido a la calculadora\n",
            "4.52365 + 2.5545 = 7.07815\n"
          ]
        }
      ],
      "source": [
        "print(\"Bienvenido a la calculadora\")\n",
        "first_number = float(input(\"Primer número: \"))\n",
        "second_number = float(input(\"Segundo número: \"))\n",
        "print(first_number,\"+\",second_number,\"=\", first_number + second_number)"
      ]
    }
  ],
  "metadata": {
    "interpreter": {
      "hash": "08bcab3c7ab99709c6fa46a2fcf77bc27969c2411386e3fc5ad5696e5a2981fc"
    },
    "kernel_info": {
      "name": "conda-env-py37_default-py"
    },
    "kernelspec": {
      "display_name": "py37_default",
      "language": "python",
      "name": "python3"
    },
    "language_info": {
      "codemirror_mode": {
        "name": "ipython",
        "version": 3
      },
      "file_extension": ".py",
      "mimetype": "text/x-python",
      "name": "python",
      "nbconvert_exporter": "python",
      "pygments_lexer": "ipython3",
      "version": "3.10.2"
    },
    "nteract": {
      "version": "nteract-front-end@1.0.0"
    },
    "orig_nbformat": 4
  },
  "nbformat": 4,
  "nbformat_minor": 2
}
